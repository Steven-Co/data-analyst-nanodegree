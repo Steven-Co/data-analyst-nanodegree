{
 "cells": [
  {
   "cell_type": "markdown",
   "metadata": {},
   "source": [
    "# Ford GoBike Data Exploration"
   ]
  },
  {
   "cell_type": "markdown",
   "metadata": {},
   "source": [
    "## Data Wrangling\n",
    "This document explores a dataset containing Ford GoBike data for 1,863,721 rides during 2018."
   ]
  },
  {
   "cell_type": "code",
   "execution_count": 1,
   "metadata": {
    "collapsed": true
   },
   "outputs": [],
   "source": [
    "#import all required libraries\n",
    "import pandas as pd\n",
    "import numpy as np\n",
    "import matplotlib.pyplot as plt\n",
    "import seaborn as sb\n",
    "import os\n",
    "import re\n",
    "import warnings\n",
    "import geopy.distance\n",
    "from geopy.distance import vincenty\n",
    "\n",
    "\n",
    "# Ignore warnings\n",
    "warnings.filterwarnings(\"ignore\")\n",
    "\n",
    "%matplotlib inline"
   ]
  },
  {
   "cell_type": "code",
   "execution_count": 2,
   "metadata": {
    "collapsed": true
   },
   "outputs": [],
   "source": [
    "# Create an empty dataframe to hold ride data\n",
    "ride_df = pd.DataFrame(columns=['duration_sec', 'start_time', 'end_time', 'start_station_id',\n",
    "       'start_station_name', 'start_station_latitude',\n",
    "       'start_station_longitude', 'end_station_id', 'end_station_name',\n",
    "       'end_station_latitude', 'end_station_longitude', 'bike_id', 'user_type',\n",
    "       'member_birth_year', 'member_gender', 'bike_share_for_all_trip'])"
   ]
  },
  {
   "cell_type": "code",
   "execution_count": 3,
   "metadata": {
    "collapsed": true
   },
   "outputs": [],
   "source": [
    "# Obtain a list of document names\n",
    "files = [x for x in os.listdir(os.curdir) if 'csv' in x]\n",
    "\n",
    "# Use the list of document names to concat GoBike data to the ride_df dataframe\n",
    "for file in files:\n",
    "    ride_df = pd.concat([ride_df, pd.read_csv(file, encoding='iso-8859-1')])"
   ]
  },
  {
   "cell_type": "code",
   "execution_count": 4,
   "metadata": {},
   "outputs": [
    {
     "name": "stdout",
     "output_type": "stream",
     "text": [
      "(1863721, 16)\n",
      "\n",
      "duration_sec                object\n",
      "start_time                  object\n",
      "end_time                    object\n",
      "start_station_id            object\n",
      "start_station_name          object\n",
      "start_station_latitude     float64\n",
      "start_station_longitude    float64\n",
      "end_station_id              object\n",
      "end_station_name            object\n",
      "end_station_latitude       float64\n",
      "end_station_longitude      float64\n",
      "bike_id                     object\n",
      "user_type                   object\n",
      "member_birth_year          float64\n",
      "member_gender               object\n",
      "bike_share_for_all_trip     object\n",
      "dtype: object\n"
     ]
    }
   ],
   "source": [
    "# Overview of data shape and composition\n",
    "print(ride_df.shape)\n",
    "print()\n",
    "print(ride_df.dtypes)"
   ]
  },
  {
   "cell_type": "code",
   "execution_count": 5,
   "metadata": {
    "scrolled": true
   },
   "outputs": [
    {
     "data": {
      "text/html": [
       "<div>\n",
       "<style scoped>\n",
       "    .dataframe tbody tr th:only-of-type {\n",
       "        vertical-align: middle;\n",
       "    }\n",
       "\n",
       "    .dataframe tbody tr th {\n",
       "        vertical-align: top;\n",
       "    }\n",
       "\n",
       "    .dataframe thead th {\n",
       "        text-align: right;\n",
       "    }\n",
       "</style>\n",
       "<table border=\"1\" class=\"dataframe\">\n",
       "  <thead>\n",
       "    <tr style=\"text-align: right;\">\n",
       "      <th></th>\n",
       "      <th>duration_sec</th>\n",
       "      <th>start_time</th>\n",
       "      <th>end_time</th>\n",
       "      <th>start_station_id</th>\n",
       "      <th>start_station_name</th>\n",
       "      <th>start_station_latitude</th>\n",
       "      <th>start_station_longitude</th>\n",
       "      <th>end_station_id</th>\n",
       "      <th>end_station_name</th>\n",
       "      <th>end_station_latitude</th>\n",
       "      <th>end_station_longitude</th>\n",
       "      <th>bike_id</th>\n",
       "      <th>user_type</th>\n",
       "      <th>member_birth_year</th>\n",
       "      <th>member_gender</th>\n",
       "      <th>bike_share_for_all_trip</th>\n",
       "    </tr>\n",
       "  </thead>\n",
       "  <tbody>\n",
       "    <tr>\n",
       "      <th>0</th>\n",
       "      <td>75284</td>\n",
       "      <td>2018-01-31 22:52:35.2390</td>\n",
       "      <td>2018-02-01 19:47:19.8240</td>\n",
       "      <td>120</td>\n",
       "      <td>Mission Dolores Park</td>\n",
       "      <td>37.761420</td>\n",
       "      <td>-122.426435</td>\n",
       "      <td>285</td>\n",
       "      <td>Webster St at O'Farrell St</td>\n",
       "      <td>37.783521</td>\n",
       "      <td>-122.431158</td>\n",
       "      <td>2765</td>\n",
       "      <td>Subscriber</td>\n",
       "      <td>1986.0</td>\n",
       "      <td>Male</td>\n",
       "      <td>No</td>\n",
       "    </tr>\n",
       "    <tr>\n",
       "      <th>1</th>\n",
       "      <td>85422</td>\n",
       "      <td>2018-01-31 16:13:34.3510</td>\n",
       "      <td>2018-02-01 15:57:17.3100</td>\n",
       "      <td>15</td>\n",
       "      <td>San Francisco Ferry Building (Harry Bridges Pl...</td>\n",
       "      <td>37.795392</td>\n",
       "      <td>-122.394203</td>\n",
       "      <td>15</td>\n",
       "      <td>San Francisco Ferry Building (Harry Bridges Pl...</td>\n",
       "      <td>37.795392</td>\n",
       "      <td>-122.394203</td>\n",
       "      <td>2815</td>\n",
       "      <td>Customer</td>\n",
       "      <td>NaN</td>\n",
       "      <td>NaN</td>\n",
       "      <td>No</td>\n",
       "    </tr>\n",
       "    <tr>\n",
       "      <th>2</th>\n",
       "      <td>71576</td>\n",
       "      <td>2018-01-31 14:23:55.8890</td>\n",
       "      <td>2018-02-01 10:16:52.1160</td>\n",
       "      <td>304</td>\n",
       "      <td>Jackson St at 5th St</td>\n",
       "      <td>37.348759</td>\n",
       "      <td>-121.894798</td>\n",
       "      <td>296</td>\n",
       "      <td>5th St at Virginia St</td>\n",
       "      <td>37.325998</td>\n",
       "      <td>-121.877120</td>\n",
       "      <td>3039</td>\n",
       "      <td>Customer</td>\n",
       "      <td>1996.0</td>\n",
       "      <td>Male</td>\n",
       "      <td>No</td>\n",
       "    </tr>\n",
       "  </tbody>\n",
       "</table>\n",
       "</div>"
      ],
      "text/plain": [
       "  duration_sec                start_time                  end_time  \\\n",
       "0        75284  2018-01-31 22:52:35.2390  2018-02-01 19:47:19.8240   \n",
       "1        85422  2018-01-31 16:13:34.3510  2018-02-01 15:57:17.3100   \n",
       "2        71576  2018-01-31 14:23:55.8890  2018-02-01 10:16:52.1160   \n",
       "\n",
       "  start_station_id                                 start_station_name  \\\n",
       "0              120                               Mission Dolores Park   \n",
       "1               15  San Francisco Ferry Building (Harry Bridges Pl...   \n",
       "2              304                               Jackson St at 5th St   \n",
       "\n",
       "   start_station_latitude  start_station_longitude end_station_id  \\\n",
       "0               37.761420              -122.426435            285   \n",
       "1               37.795392              -122.394203             15   \n",
       "2               37.348759              -121.894798            296   \n",
       "\n",
       "                                    end_station_name  end_station_latitude  \\\n",
       "0                         Webster St at O'Farrell St             37.783521   \n",
       "1  San Francisco Ferry Building (Harry Bridges Pl...             37.795392   \n",
       "2                              5th St at Virginia St             37.325998   \n",
       "\n",
       "   end_station_longitude bike_id   user_type  member_birth_year member_gender  \\\n",
       "0            -122.431158    2765  Subscriber             1986.0          Male   \n",
       "1            -122.394203    2815    Customer                NaN           NaN   \n",
       "2            -121.877120    3039    Customer             1996.0          Male   \n",
       "\n",
       "  bike_share_for_all_trip  \n",
       "0                      No  \n",
       "1                      No  \n",
       "2                      No  "
      ]
     },
     "execution_count": 5,
     "metadata": {},
     "output_type": "execute_result"
    }
   ],
   "source": [
    "ride_df.head(3)"
   ]
  },
  {
   "cell_type": "markdown",
   "metadata": {},
   "source": [
    "Some ages entered into the member_birth_year section appear to be falsified. For example the oldest living person in 2018 was born in 1903, however there are ages in our data from the 19th century. To correct this information, I am excluding results from members claiming birth years before 1907 as that is the birth year of the oldest living person in the United States. Rows with no birth years are also removed.\n",
    "\n",
    "This conclusion is based on information found on this Wikipedia Entry: https://en.wikipedia.org/wiki/List_of_the_verified_oldest_people"
   ]
  },
  {
   "cell_type": "code",
   "execution_count": 6,
   "metadata": {
    "collapsed": true
   },
   "outputs": [],
   "source": [
    "# Change duration_sec and member_birth_year to int datatype\n",
    "ride_df['duration_sec'] = ride_df['duration_sec'].astype('int')\n",
    "ride_df['start_time'] = pd.to_datetime(ride_df['start_time'])\n",
    "ride_df['end_time'] = pd.to_datetime(ride_df['end_time'])\n",
    "ride_df = ride_df[ride_df.member_birth_year >= 1907].reset_index(drop=True)\n",
    "ride_df['member_birth_year'] = ride_df['member_birth_year'].astype('int')"
   ]
  },
  {
   "cell_type": "code",
   "execution_count": 7,
   "metadata": {},
   "outputs": [
    {
     "data": {
      "text/html": [
       "<div>\n",
       "<style scoped>\n",
       "    .dataframe tbody tr th:only-of-type {\n",
       "        vertical-align: middle;\n",
       "    }\n",
       "\n",
       "    .dataframe tbody tr th {\n",
       "        vertical-align: top;\n",
       "    }\n",
       "\n",
       "    .dataframe thead th {\n",
       "        text-align: right;\n",
       "    }\n",
       "</style>\n",
       "<table border=\"1\" class=\"dataframe\">\n",
       "  <thead>\n",
       "    <tr style=\"text-align: right;\">\n",
       "      <th></th>\n",
       "      <th>duration_sec</th>\n",
       "      <th>start_time</th>\n",
       "      <th>end_time</th>\n",
       "      <th>start_station_id</th>\n",
       "      <th>start_station_name</th>\n",
       "      <th>start_station_latitude</th>\n",
       "      <th>start_station_longitude</th>\n",
       "      <th>end_station_id</th>\n",
       "      <th>end_station_name</th>\n",
       "      <th>end_station_latitude</th>\n",
       "      <th>end_station_longitude</th>\n",
       "      <th>bike_id</th>\n",
       "      <th>user_type</th>\n",
       "      <th>member_birth_year</th>\n",
       "      <th>member_gender</th>\n",
       "      <th>bike_share_for_all_trip</th>\n",
       "    </tr>\n",
       "  </thead>\n",
       "  <tbody>\n",
       "    <tr>\n",
       "      <th>0</th>\n",
       "      <td>75284</td>\n",
       "      <td>2018-01-31 22:52:35.239</td>\n",
       "      <td>2018-02-01 19:47:19.824</td>\n",
       "      <td>120</td>\n",
       "      <td>Mission Dolores Park</td>\n",
       "      <td>37.761420</td>\n",
       "      <td>-122.426435</td>\n",
       "      <td>285</td>\n",
       "      <td>Webster St at O'Farrell St</td>\n",
       "      <td>37.783521</td>\n",
       "      <td>-122.431158</td>\n",
       "      <td>2765</td>\n",
       "      <td>Subscriber</td>\n",
       "      <td>1986</td>\n",
       "      <td>Male</td>\n",
       "      <td>No</td>\n",
       "    </tr>\n",
       "    <tr>\n",
       "      <th>1</th>\n",
       "      <td>71576</td>\n",
       "      <td>2018-01-31 14:23:55.889</td>\n",
       "      <td>2018-02-01 10:16:52.116</td>\n",
       "      <td>304</td>\n",
       "      <td>Jackson St at 5th St</td>\n",
       "      <td>37.348759</td>\n",
       "      <td>-121.894798</td>\n",
       "      <td>296</td>\n",
       "      <td>5th St at Virginia St</td>\n",
       "      <td>37.325998</td>\n",
       "      <td>-121.877120</td>\n",
       "      <td>3039</td>\n",
       "      <td>Customer</td>\n",
       "      <td>1996</td>\n",
       "      <td>Male</td>\n",
       "      <td>No</td>\n",
       "    </tr>\n",
       "    <tr>\n",
       "      <th>2</th>\n",
       "      <td>39966</td>\n",
       "      <td>2018-01-31 19:52:24.667</td>\n",
       "      <td>2018-02-01 06:58:31.053</td>\n",
       "      <td>74</td>\n",
       "      <td>Laguna St at Hayes St</td>\n",
       "      <td>37.776435</td>\n",
       "      <td>-122.426244</td>\n",
       "      <td>19</td>\n",
       "      <td>Post St at Kearny St</td>\n",
       "      <td>37.788975</td>\n",
       "      <td>-122.403452</td>\n",
       "      <td>617</td>\n",
       "      <td>Subscriber</td>\n",
       "      <td>1991</td>\n",
       "      <td>Male</td>\n",
       "      <td>No</td>\n",
       "    </tr>\n",
       "    <tr>\n",
       "      <th>3</th>\n",
       "      <td>453</td>\n",
       "      <td>2018-01-31 23:53:53.632</td>\n",
       "      <td>2018-02-01 00:01:26.805</td>\n",
       "      <td>110</td>\n",
       "      <td>17th &amp; Folsom Street Park (17th St at Folsom St)</td>\n",
       "      <td>37.763708</td>\n",
       "      <td>-122.415204</td>\n",
       "      <td>134</td>\n",
       "      <td>Valencia St at 24th St</td>\n",
       "      <td>37.752428</td>\n",
       "      <td>-122.420628</td>\n",
       "      <td>3571</td>\n",
       "      <td>Subscriber</td>\n",
       "      <td>1988</td>\n",
       "      <td>Male</td>\n",
       "      <td>No</td>\n",
       "    </tr>\n",
       "    <tr>\n",
       "      <th>4</th>\n",
       "      <td>180</td>\n",
       "      <td>2018-01-31 23:52:09.903</td>\n",
       "      <td>2018-01-31 23:55:10.807</td>\n",
       "      <td>81</td>\n",
       "      <td>Berry St at 4th St</td>\n",
       "      <td>37.775880</td>\n",
       "      <td>-122.393170</td>\n",
       "      <td>93</td>\n",
       "      <td>4th St at Mission Bay Blvd S</td>\n",
       "      <td>37.770407</td>\n",
       "      <td>-122.391198</td>\n",
       "      <td>1403</td>\n",
       "      <td>Subscriber</td>\n",
       "      <td>1980</td>\n",
       "      <td>Male</td>\n",
       "      <td>No</td>\n",
       "    </tr>\n",
       "  </tbody>\n",
       "</table>\n",
       "</div>"
      ],
      "text/plain": [
       "   duration_sec              start_time                end_time  \\\n",
       "0         75284 2018-01-31 22:52:35.239 2018-02-01 19:47:19.824   \n",
       "1         71576 2018-01-31 14:23:55.889 2018-02-01 10:16:52.116   \n",
       "2         39966 2018-01-31 19:52:24.667 2018-02-01 06:58:31.053   \n",
       "3           453 2018-01-31 23:53:53.632 2018-02-01 00:01:26.805   \n",
       "4           180 2018-01-31 23:52:09.903 2018-01-31 23:55:10.807   \n",
       "\n",
       "  start_station_id                                start_station_name  \\\n",
       "0              120                              Mission Dolores Park   \n",
       "1              304                              Jackson St at 5th St   \n",
       "2               74                             Laguna St at Hayes St   \n",
       "3              110  17th & Folsom Street Park (17th St at Folsom St)   \n",
       "4               81                                Berry St at 4th St   \n",
       "\n",
       "   start_station_latitude  start_station_longitude end_station_id  \\\n",
       "0               37.761420              -122.426435            285   \n",
       "1               37.348759              -121.894798            296   \n",
       "2               37.776435              -122.426244             19   \n",
       "3               37.763708              -122.415204            134   \n",
       "4               37.775880              -122.393170             93   \n",
       "\n",
       "               end_station_name  end_station_latitude  end_station_longitude  \\\n",
       "0    Webster St at O'Farrell St             37.783521            -122.431158   \n",
       "1         5th St at Virginia St             37.325998            -121.877120   \n",
       "2          Post St at Kearny St             37.788975            -122.403452   \n",
       "3        Valencia St at 24th St             37.752428            -122.420628   \n",
       "4  4th St at Mission Bay Blvd S             37.770407            -122.391198   \n",
       "\n",
       "  bike_id   user_type  member_birth_year member_gender bike_share_for_all_trip  \n",
       "0    2765  Subscriber               1986          Male                      No  \n",
       "1    3039    Customer               1996          Male                      No  \n",
       "2     617  Subscriber               1991          Male                      No  \n",
       "3    3571  Subscriber               1988          Male                      No  \n",
       "4    1403  Subscriber               1980          Male                      No  "
      ]
     },
     "execution_count": 7,
     "metadata": {},
     "output_type": "execute_result"
    }
   ],
   "source": [
    "ride_df.head()"
   ]
  },
  {
   "cell_type": "code",
   "execution_count": 8,
   "metadata": {
    "collapsed": true
   },
   "outputs": [],
   "source": [
    "# Calculate distance between start and end stations in miles\n",
    "# Source: https://gis.stackexchange.com/questions/273304/how-to-measure-distance-between-2-gps-points-in-pandas\n",
    "ride_df['distance_between_stations'] = ride_df.apply(\n",
    "    (lambda row: vincenty(\n",
    "        (row['start_station_latitude'], row['start_station_longitude']),\n",
    "        (row['end_station_latitude'], row['end_station_longitude'])\n",
    "    ).miles),\n",
    "    axis=1\n",
    ")"
   ]
  },
  {
   "cell_type": "code",
   "execution_count": 9,
   "metadata": {
    "scrolled": false
   },
   "outputs": [
    {
     "name": "stdout",
     "output_type": "stream",
     "text": [
      "<class 'pandas.core.frame.DataFrame'>\n",
      "RangeIndex: 1752127 entries, 0 to 1752126\n",
      "Data columns (total 17 columns):\n",
      "duration_sec                 int32\n",
      "start_time                   datetime64[ns]\n",
      "end_time                     datetime64[ns]\n",
      "start_station_id             object\n",
      "start_station_name           object\n",
      "start_station_latitude       float64\n",
      "start_station_longitude      float64\n",
      "end_station_id               object\n",
      "end_station_name             object\n",
      "end_station_latitude         float64\n",
      "end_station_longitude        float64\n",
      "bike_id                      object\n",
      "user_type                    object\n",
      "member_birth_year            int32\n",
      "member_gender                object\n",
      "bike_share_for_all_trip      object\n",
      "distance_between_stations    float64\n",
      "dtypes: datetime64[ns](2), float64(5), int32(2), object(8)\n",
      "memory usage: 213.9+ MB\n"
     ]
    }
   ],
   "source": [
    "ride_df.info()"
   ]
  },
  {
   "cell_type": "code",
   "execution_count": 10,
   "metadata": {
    "scrolled": false
   },
   "outputs": [
    {
     "data": {
      "text/html": [
       "<div>\n",
       "<style scoped>\n",
       "    .dataframe tbody tr th:only-of-type {\n",
       "        vertical-align: middle;\n",
       "    }\n",
       "\n",
       "    .dataframe tbody tr th {\n",
       "        vertical-align: top;\n",
       "    }\n",
       "\n",
       "    .dataframe thead th {\n",
       "        text-align: right;\n",
       "    }\n",
       "</style>\n",
       "<table border=\"1\" class=\"dataframe\">\n",
       "  <thead>\n",
       "    <tr style=\"text-align: right;\">\n",
       "      <th></th>\n",
       "      <th>duration_sec</th>\n",
       "      <th>start_time</th>\n",
       "      <th>end_time</th>\n",
       "      <th>start_station_id</th>\n",
       "      <th>start_station_name</th>\n",
       "      <th>start_station_latitude</th>\n",
       "      <th>start_station_longitude</th>\n",
       "      <th>end_station_id</th>\n",
       "      <th>end_station_name</th>\n",
       "      <th>end_station_latitude</th>\n",
       "      <th>end_station_longitude</th>\n",
       "      <th>bike_id</th>\n",
       "      <th>user_type</th>\n",
       "      <th>member_birth_year</th>\n",
       "      <th>member_gender</th>\n",
       "      <th>bike_share_for_all_trip</th>\n",
       "      <th>distance_between_stations</th>\n",
       "    </tr>\n",
       "  </thead>\n",
       "  <tbody>\n",
       "    <tr>\n",
       "      <th>0</th>\n",
       "      <td>75284</td>\n",
       "      <td>2018-01-31 22:52:35.239</td>\n",
       "      <td>2018-02-01 19:47:19.824</td>\n",
       "      <td>120</td>\n",
       "      <td>Mission Dolores Park</td>\n",
       "      <td>37.761420</td>\n",
       "      <td>-122.426435</td>\n",
       "      <td>285</td>\n",
       "      <td>Webster St at O'Farrell St</td>\n",
       "      <td>37.783521</td>\n",
       "      <td>-122.431158</td>\n",
       "      <td>2765</td>\n",
       "      <td>Subscriber</td>\n",
       "      <td>1986</td>\n",
       "      <td>Male</td>\n",
       "      <td>No</td>\n",
       "      <td>1.545972</td>\n",
       "    </tr>\n",
       "    <tr>\n",
       "      <th>1</th>\n",
       "      <td>71576</td>\n",
       "      <td>2018-01-31 14:23:55.889</td>\n",
       "      <td>2018-02-01 10:16:52.116</td>\n",
       "      <td>304</td>\n",
       "      <td>Jackson St at 5th St</td>\n",
       "      <td>37.348759</td>\n",
       "      <td>-121.894798</td>\n",
       "      <td>296</td>\n",
       "      <td>5th St at Virginia St</td>\n",
       "      <td>37.325998</td>\n",
       "      <td>-121.877120</td>\n",
       "      <td>3039</td>\n",
       "      <td>Customer</td>\n",
       "      <td>1996</td>\n",
       "      <td>Male</td>\n",
       "      <td>No</td>\n",
       "      <td>1.846937</td>\n",
       "    </tr>\n",
       "    <tr>\n",
       "      <th>2</th>\n",
       "      <td>39966</td>\n",
       "      <td>2018-01-31 19:52:24.667</td>\n",
       "      <td>2018-02-01 06:58:31.053</td>\n",
       "      <td>74</td>\n",
       "      <td>Laguna St at Hayes St</td>\n",
       "      <td>37.776435</td>\n",
       "      <td>-122.426244</td>\n",
       "      <td>19</td>\n",
       "      <td>Post St at Kearny St</td>\n",
       "      <td>37.788975</td>\n",
       "      <td>-122.403452</td>\n",
       "      <td>617</td>\n",
       "      <td>Subscriber</td>\n",
       "      <td>1991</td>\n",
       "      <td>Male</td>\n",
       "      <td>No</td>\n",
       "      <td>1.518033</td>\n",
       "    </tr>\n",
       "    <tr>\n",
       "      <th>3</th>\n",
       "      <td>453</td>\n",
       "      <td>2018-01-31 23:53:53.632</td>\n",
       "      <td>2018-02-01 00:01:26.805</td>\n",
       "      <td>110</td>\n",
       "      <td>17th &amp; Folsom Street Park (17th St at Folsom St)</td>\n",
       "      <td>37.763708</td>\n",
       "      <td>-122.415204</td>\n",
       "      <td>134</td>\n",
       "      <td>Valencia St at 24th St</td>\n",
       "      <td>37.752428</td>\n",
       "      <td>-122.420628</td>\n",
       "      <td>3571</td>\n",
       "      <td>Subscriber</td>\n",
       "      <td>1988</td>\n",
       "      <td>Male</td>\n",
       "      <td>No</td>\n",
       "      <td>0.832750</td>\n",
       "    </tr>\n",
       "    <tr>\n",
       "      <th>4</th>\n",
       "      <td>180</td>\n",
       "      <td>2018-01-31 23:52:09.903</td>\n",
       "      <td>2018-01-31 23:55:10.807</td>\n",
       "      <td>81</td>\n",
       "      <td>Berry St at 4th St</td>\n",
       "      <td>37.775880</td>\n",
       "      <td>-122.393170</td>\n",
       "      <td>93</td>\n",
       "      <td>4th St at Mission Bay Blvd S</td>\n",
       "      <td>37.770407</td>\n",
       "      <td>-122.391198</td>\n",
       "      <td>1403</td>\n",
       "      <td>Subscriber</td>\n",
       "      <td>1980</td>\n",
       "      <td>Male</td>\n",
       "      <td>No</td>\n",
       "      <td>0.392560</td>\n",
       "    </tr>\n",
       "  </tbody>\n",
       "</table>\n",
       "</div>"
      ],
      "text/plain": [
       "   duration_sec              start_time                end_time  \\\n",
       "0         75284 2018-01-31 22:52:35.239 2018-02-01 19:47:19.824   \n",
       "1         71576 2018-01-31 14:23:55.889 2018-02-01 10:16:52.116   \n",
       "2         39966 2018-01-31 19:52:24.667 2018-02-01 06:58:31.053   \n",
       "3           453 2018-01-31 23:53:53.632 2018-02-01 00:01:26.805   \n",
       "4           180 2018-01-31 23:52:09.903 2018-01-31 23:55:10.807   \n",
       "\n",
       "  start_station_id                                start_station_name  \\\n",
       "0              120                              Mission Dolores Park   \n",
       "1              304                              Jackson St at 5th St   \n",
       "2               74                             Laguna St at Hayes St   \n",
       "3              110  17th & Folsom Street Park (17th St at Folsom St)   \n",
       "4               81                                Berry St at 4th St   \n",
       "\n",
       "   start_station_latitude  start_station_longitude end_station_id  \\\n",
       "0               37.761420              -122.426435            285   \n",
       "1               37.348759              -121.894798            296   \n",
       "2               37.776435              -122.426244             19   \n",
       "3               37.763708              -122.415204            134   \n",
       "4               37.775880              -122.393170             93   \n",
       "\n",
       "               end_station_name  end_station_latitude  end_station_longitude  \\\n",
       "0    Webster St at O'Farrell St             37.783521            -122.431158   \n",
       "1         5th St at Virginia St             37.325998            -121.877120   \n",
       "2          Post St at Kearny St             37.788975            -122.403452   \n",
       "3        Valencia St at 24th St             37.752428            -122.420628   \n",
       "4  4th St at Mission Bay Blvd S             37.770407            -122.391198   \n",
       "\n",
       "  bike_id   user_type  member_birth_year member_gender  \\\n",
       "0    2765  Subscriber               1986          Male   \n",
       "1    3039    Customer               1996          Male   \n",
       "2     617  Subscriber               1991          Male   \n",
       "3    3571  Subscriber               1988          Male   \n",
       "4    1403  Subscriber               1980          Male   \n",
       "\n",
       "  bike_share_for_all_trip  distance_between_stations  \n",
       "0                      No                   1.545972  \n",
       "1                      No                   1.846937  \n",
       "2                      No                   1.518033  \n",
       "3                      No                   0.832750  \n",
       "4                      No                   0.392560  "
      ]
     },
     "execution_count": 10,
     "metadata": {},
     "output_type": "execute_result"
    }
   ],
   "source": [
    "ride_df.head()"
   ]
  },
  {
   "cell_type": "code",
   "execution_count": 11,
   "metadata": {
    "collapsed": true
   },
   "outputs": [],
   "source": [
    "# Create a dictionary of days of the week. \n",
    "# The dictionary keys represent the dayofweek format for days in pandas\n",
    "days_of_week = {'0':'Monday', '1':'Tuesday', '2':'Wednesday', '3':'Thursday', '4':'Friday', '5':'Saturday', \\\n",
    "                '6':'Sunday'}\n",
    "\n",
    "# Create two new columns to store integer representations of the day of the week\n",
    "ride_df['start_day_num'] = ride_df.start_time.dt.dayofweek\n",
    "ride_df['end_day_num'] = ride_df.end_time.dt.dayofweek\n",
    "\n",
    "# Create two new columns to change the integer representation into a string format such as 'Monday'\n",
    "ride_df['start_day'] = ride_df['start_day_num'].apply(lambda x: days_of_week[str(x)])\n",
    "ride_df['end_day'] = ride_df['end_day_num'].apply(lambda x: days_of_week[str(x)])\n",
    "\n",
    "# Remove the start_day_num and end_day_num colums\n",
    "ride_df.drop(['start_day_num', 'end_day_num'], axis=1, inplace=True)"
   ]
  },
  {
   "cell_type": "code",
   "execution_count": 12,
   "metadata": {
    "scrolled": false
   },
   "outputs": [
    {
     "data": {
      "text/html": [
       "<div>\n",
       "<style scoped>\n",
       "    .dataframe tbody tr th:only-of-type {\n",
       "        vertical-align: middle;\n",
       "    }\n",
       "\n",
       "    .dataframe tbody tr th {\n",
       "        vertical-align: top;\n",
       "    }\n",
       "\n",
       "    .dataframe thead th {\n",
       "        text-align: right;\n",
       "    }\n",
       "</style>\n",
       "<table border=\"1\" class=\"dataframe\">\n",
       "  <thead>\n",
       "    <tr style=\"text-align: right;\">\n",
       "      <th></th>\n",
       "      <th>duration_sec</th>\n",
       "      <th>start_time</th>\n",
       "      <th>end_time</th>\n",
       "      <th>start_station_id</th>\n",
       "      <th>start_station_name</th>\n",
       "      <th>start_station_latitude</th>\n",
       "      <th>start_station_longitude</th>\n",
       "      <th>end_station_id</th>\n",
       "      <th>end_station_name</th>\n",
       "      <th>end_station_latitude</th>\n",
       "      <th>end_station_longitude</th>\n",
       "      <th>bike_id</th>\n",
       "      <th>user_type</th>\n",
       "      <th>member_birth_year</th>\n",
       "      <th>member_gender</th>\n",
       "      <th>bike_share_for_all_trip</th>\n",
       "      <th>distance_between_stations</th>\n",
       "      <th>start_day</th>\n",
       "      <th>end_day</th>\n",
       "    </tr>\n",
       "  </thead>\n",
       "  <tbody>\n",
       "    <tr>\n",
       "      <th>0</th>\n",
       "      <td>75284</td>\n",
       "      <td>2018-01-31 22:52:35.239</td>\n",
       "      <td>2018-02-01 19:47:19.824</td>\n",
       "      <td>120</td>\n",
       "      <td>Mission Dolores Park</td>\n",
       "      <td>37.761420</td>\n",
       "      <td>-122.426435</td>\n",
       "      <td>285</td>\n",
       "      <td>Webster St at O'Farrell St</td>\n",
       "      <td>37.783521</td>\n",
       "      <td>-122.431158</td>\n",
       "      <td>2765</td>\n",
       "      <td>Subscriber</td>\n",
       "      <td>1986</td>\n",
       "      <td>Male</td>\n",
       "      <td>No</td>\n",
       "      <td>1.545972</td>\n",
       "      <td>Wednesday</td>\n",
       "      <td>Thursday</td>\n",
       "    </tr>\n",
       "    <tr>\n",
       "      <th>1</th>\n",
       "      <td>71576</td>\n",
       "      <td>2018-01-31 14:23:55.889</td>\n",
       "      <td>2018-02-01 10:16:52.116</td>\n",
       "      <td>304</td>\n",
       "      <td>Jackson St at 5th St</td>\n",
       "      <td>37.348759</td>\n",
       "      <td>-121.894798</td>\n",
       "      <td>296</td>\n",
       "      <td>5th St at Virginia St</td>\n",
       "      <td>37.325998</td>\n",
       "      <td>-121.877120</td>\n",
       "      <td>3039</td>\n",
       "      <td>Customer</td>\n",
       "      <td>1996</td>\n",
       "      <td>Male</td>\n",
       "      <td>No</td>\n",
       "      <td>1.846937</td>\n",
       "      <td>Wednesday</td>\n",
       "      <td>Thursday</td>\n",
       "    </tr>\n",
       "    <tr>\n",
       "      <th>2</th>\n",
       "      <td>39966</td>\n",
       "      <td>2018-01-31 19:52:24.667</td>\n",
       "      <td>2018-02-01 06:58:31.053</td>\n",
       "      <td>74</td>\n",
       "      <td>Laguna St at Hayes St</td>\n",
       "      <td>37.776435</td>\n",
       "      <td>-122.426244</td>\n",
       "      <td>19</td>\n",
       "      <td>Post St at Kearny St</td>\n",
       "      <td>37.788975</td>\n",
       "      <td>-122.403452</td>\n",
       "      <td>617</td>\n",
       "      <td>Subscriber</td>\n",
       "      <td>1991</td>\n",
       "      <td>Male</td>\n",
       "      <td>No</td>\n",
       "      <td>1.518033</td>\n",
       "      <td>Wednesday</td>\n",
       "      <td>Thursday</td>\n",
       "    </tr>\n",
       "  </tbody>\n",
       "</table>\n",
       "</div>"
      ],
      "text/plain": [
       "   duration_sec              start_time                end_time  \\\n",
       "0         75284 2018-01-31 22:52:35.239 2018-02-01 19:47:19.824   \n",
       "1         71576 2018-01-31 14:23:55.889 2018-02-01 10:16:52.116   \n",
       "2         39966 2018-01-31 19:52:24.667 2018-02-01 06:58:31.053   \n",
       "\n",
       "  start_station_id     start_station_name  start_station_latitude  \\\n",
       "0              120   Mission Dolores Park               37.761420   \n",
       "1              304   Jackson St at 5th St               37.348759   \n",
       "2               74  Laguna St at Hayes St               37.776435   \n",
       "\n",
       "   start_station_longitude end_station_id            end_station_name  \\\n",
       "0              -122.426435            285  Webster St at O'Farrell St   \n",
       "1              -121.894798            296       5th St at Virginia St   \n",
       "2              -122.426244             19        Post St at Kearny St   \n",
       "\n",
       "   end_station_latitude  end_station_longitude bike_id   user_type  \\\n",
       "0             37.783521            -122.431158    2765  Subscriber   \n",
       "1             37.325998            -121.877120    3039    Customer   \n",
       "2             37.788975            -122.403452     617  Subscriber   \n",
       "\n",
       "   member_birth_year member_gender bike_share_for_all_trip  \\\n",
       "0               1986          Male                      No   \n",
       "1               1996          Male                      No   \n",
       "2               1991          Male                      No   \n",
       "\n",
       "   distance_between_stations  start_day   end_day  \n",
       "0                   1.545972  Wednesday  Thursday  \n",
       "1                   1.846937  Wednesday  Thursday  \n",
       "2                   1.518033  Wednesday  Thursday  "
      ]
     },
     "execution_count": 12,
     "metadata": {},
     "output_type": "execute_result"
    }
   ],
   "source": [
    "ride_df.head(3)"
   ]
  },
  {
   "cell_type": "code",
   "execution_count": 13,
   "metadata": {},
   "outputs": [
    {
     "name": "stdout",
     "output_type": "stream",
     "text": [
      "<class 'pandas.core.frame.DataFrame'>\n",
      "RangeIndex: 1752127 entries, 0 to 1752126\n",
      "Data columns (total 19 columns):\n",
      "duration_sec                 int32\n",
      "start_time                   datetime64[ns]\n",
      "end_time                     datetime64[ns]\n",
      "start_station_id             object\n",
      "start_station_name           object\n",
      "start_station_latitude       float64\n",
      "start_station_longitude      float64\n",
      "end_station_id               object\n",
      "end_station_name             object\n",
      "end_station_latitude         float64\n",
      "end_station_longitude        float64\n",
      "bike_id                      object\n",
      "user_type                    object\n",
      "member_birth_year            int32\n",
      "member_gender                object\n",
      "bike_share_for_all_trip      object\n",
      "distance_between_stations    float64\n",
      "start_day                    object\n",
      "end_day                      object\n",
      "dtypes: datetime64[ns](2), float64(5), int32(2), object(10)\n",
      "memory usage: 240.6+ MB\n"
     ]
    }
   ],
   "source": [
    "ride_df.info()"
   ]
  },
  {
   "cell_type": "raw",
   "metadata": {},
   "source": [
    "# Save updated dataframe to a csv    \n",
    "ride_df.to_csv('gobike_data.csv')"
   ]
  },
  {
   "cell_type": "code",
   "execution_count": 14,
   "metadata": {
    "collapsed": true
   },
   "outputs": [],
   "source": [
    "#ride_df = pd.read_csv('gobike_data.csv')"
   ]
  },
  {
   "cell_type": "markdown",
   "metadata": {
    "collapsed": true
   },
   "source": [
    "### What is the structure of your dataset?"
   ]
  },
  {
   "cell_type": "markdown",
   "metadata": {
    "collapsed": true
   },
   "source": [
    "There are records of 1,752,127 rides in the dataset with 19 features: \n",
    "\n",
    "(duration_sec, start_time, end_time, start_station_id, start_station_name, start_station_latitude, start_station_longitude, end_station_id, end_station_name,end_station_latitude, end_station_longitude, bike_id, user_type, member_birth_year, member_gender, bike_share_for_all_trip, distance_between_stations\tstart_day\tend_day)\n",
    "\n",
    "There is a mix of numeric and categorical variables for areas such as member age, type of user, ride duration, etc. "
   ]
  },
  {
   "cell_type": "markdown",
   "metadata": {
    "collapsed": true
   },
   "source": [
    "### What is/are the main feature(s) of interest in your dataset?"
   ]
  },
  {
   "cell_type": "markdown",
   "metadata": {
    "collapsed": true
   },
   "source": [
    "I'm trying to find out how users of different genders and ages are using the Ford GoBike service: When, how often, how long, from where, etc."
   ]
  },
  {
   "cell_type": "markdown",
   "metadata": {
    "collapsed": true
   },
   "source": [
    "### What features in the dataset do you think will help support your investigation into your feature(s) of interest?"
   ]
  },
  {
   "cell_type": "markdown",
   "metadata": {},
   "source": [
    "Ride duration, rider age, ride gender counts, and the day of week will all help to provide a better understanding of who is using the Ford GoBike ride service and how. "
   ]
  },
  {
   "cell_type": "markdown",
   "metadata": {
    "collapsed": true
   },
   "source": [
    "## Univariate Exploration"
   ]
  },
  {
   "cell_type": "markdown",
   "metadata": {},
   "source": [
    "I'll start by looking at the distribution one of the main variables of interest: age."
   ]
  },
  {
   "cell_type": "code",
   "execution_count": 15,
   "metadata": {
    "scrolled": false
   },
   "outputs": [
    {
     "data": {
      "image/png": "[encoded data removed]",
      "text/plain": [
       "<matplotlib.figure.Figure at 0x249f186d978>"
      ]
     },
     "metadata": {
      "needs_background": "light"
     },
     "output_type": "display_data"
    }
   ],
   "source": [
    "# Binsize of 1 for every year\n",
    "binsize = 1\n",
    "bins = np.arange(1907, ride_df['member_birth_year'].max()+binsize, binsize)\n",
    "plt.figure(figsize=[8, 5])\n",
    "plt.hist(data = ride_df, x = 'member_birth_year', bins=bins)\n",
    "plt.xlabel('Member Birth Year')\n",
    "plt.show()"
   ]
  },
  {
   "cell_type": "markdown",
   "metadata": {},
   "source": [
    "The majority of the service's users list dates of birth after the year 1940, so to see the data more clearly, we can zoom into that."
   ]
  },
  {
   "cell_type": "code",
   "execution_count": 16,
   "metadata": {
    "scrolled": true
   },
   "outputs": [
    {
     "data": {
      "image/png": "[encoded data removed]",
      "text/plain": [
       "<matplotlib.figure.Figure at 0x2498a3f6278>"
      ]
     },
     "metadata": {
      "needs_background": "light"
     },
     "output_type": "display_data"
    }
   ],
   "source": [
    "# Binsize of 1 for every year\n",
    "binsize = 1\n",
    "bins = np.arange(1940, ride_df['member_birth_year'].max()+binsize, binsize)\n",
    "plt.figure(figsize=[8, 5])\n",
    "plt.hist(data = ride_df, x = 'member_birth_year', bins=bins)\n",
    "plt.xlabel('Member Birth Year')\n",
    "plt.show()"
   ]
  },
  {
   "cell_type": "markdown",
   "metadata": {},
   "source": [
    "As we can see the majority of those using the GoBike service were born between 1980 and 2000, peaking around 1988. The birth years listed also abruptly end at 2000 as the signup up age for the GoBike service is likely 18 or above. \n",
    "\n",
    "Next I'll examine gender usage of the service."
   ]
  },
  {
   "cell_type": "code",
   "execution_count": 17,
   "metadata": {
    "scrolled": true
   },
   "outputs": [
    {
     "data": {
      "image/png": "[encoded data removed]",
      "text/plain": [
       "<matplotlib.figure.Figure at 0x24984f54a90>"
      ]
     },
     "metadata": {
      "needs_background": "light"
     },
     "output_type": "display_data"
    }
   ],
   "source": [
    "base_color = sb.color_palette()[0]\n",
    "plt.figure(figsize=[8, 5])\n",
    "sb.countplot(data=ride_df, x='member_gender', color=base_color, order=['Other', 'Female', 'Male'])\n",
    "plt.xlabel('Gender')\n",
    "plt.ylabel('');"
   ]
  },
  {
   "cell_type": "markdown",
   "metadata": {},
   "source": [
    "The above graphs shows the gender usage of each individual ride. We can see that the number of times males use the service is considerably more than females and those choosing to identify as other. This holds true even if one were to combine and double those figures for female and other. Additionally it is important to note that the above graph is not a count of unique users nor can I calculate those numbers based on the limitations of the dataset.\n",
    "\n",
    "Now I'll look at ride durations."
   ]
  },
  {
   "cell_type": "code",
   "execution_count": 18,
   "metadata": {
    "scrolled": true
   },
   "outputs": [
    {
     "data": {
      "image/png": "[encoded data removed]",
      "text/plain": [
       "<matplotlib.figure.Figure at 0x249e3c6cc50>"
      ]
     },
     "metadata": {
      "needs_background": "light"
     },
     "output_type": "display_data"
    }
   ],
   "source": [
    "binsize = 100\n",
    "bins = np.arange(0, ride_df['duration_sec'].max()+binsize, binsize)\n",
    "\n",
    "plt.figure(figsize=[8, 5])\n",
    "plt.hist(data = ride_df, x = 'duration_sec', bins = bins)\n",
    "plt.xlabel('Duration')\n",
    "plt.show()"
   ]
  },
  {
   "cell_type": "code",
   "execution_count": 19,
   "metadata": {},
   "outputs": [
    {
     "data": {
      "text/html": [
       "<div>\n",
       "<style scoped>\n",
       "    .dataframe tbody tr th:only-of-type {\n",
       "        vertical-align: middle;\n",
       "    }\n",
       "\n",
       "    .dataframe tbody tr th {\n",
       "        vertical-align: top;\n",
       "    }\n",
       "\n",
       "    .dataframe thead th {\n",
       "        text-align: right;\n",
       "    }\n",
       "</style>\n",
       "<table border=\"1\" class=\"dataframe\">\n",
       "  <thead>\n",
       "    <tr style=\"text-align: right;\">\n",
       "      <th></th>\n",
       "      <th>duration_sec</th>\n",
       "      <th>start_station_latitude</th>\n",
       "      <th>start_station_longitude</th>\n",
       "      <th>end_station_latitude</th>\n",
       "      <th>end_station_longitude</th>\n",
       "      <th>member_birth_year</th>\n",
       "      <th>distance_between_stations</th>\n",
       "    </tr>\n",
       "  </thead>\n",
       "  <tbody>\n",
       "    <tr>\n",
       "      <th>count</th>\n",
       "      <td>1.752127e+06</td>\n",
       "      <td>1.752127e+06</td>\n",
       "      <td>1.752127e+06</td>\n",
       "      <td>1.752127e+06</td>\n",
       "      <td>1.752127e+06</td>\n",
       "      <td>1.752127e+06</td>\n",
       "      <td>1.752127e+06</td>\n",
       "    </tr>\n",
       "    <tr>\n",
       "      <th>mean</th>\n",
       "      <td>7.777660e+02</td>\n",
       "      <td>3.776641e+01</td>\n",
       "      <td>-1.223482e+02</td>\n",
       "      <td>3.776650e+01</td>\n",
       "      <td>-1.223476e+02</td>\n",
       "      <td>1.983129e+03</td>\n",
       "      <td>9.901867e-01</td>\n",
       "    </tr>\n",
       "    <tr>\n",
       "      <th>std</th>\n",
       "      <td>1.983513e+03</td>\n",
       "      <td>1.067309e-01</td>\n",
       "      <td>1.684439e-01</td>\n",
       "      <td>1.066003e-01</td>\n",
       "      <td>1.680216e-01</td>\n",
       "      <td>1.027881e+01</td>\n",
       "      <td>6.352587e-01</td>\n",
       "    </tr>\n",
       "    <tr>\n",
       "      <th>min</th>\n",
       "      <td>6.100000e+01</td>\n",
       "      <td>3.726331e+01</td>\n",
       "      <td>-1.224737e+02</td>\n",
       "      <td>3.726331e+01</td>\n",
       "      <td>-1.224737e+02</td>\n",
       "      <td>1.909000e+03</td>\n",
       "      <td>0.000000e+00</td>\n",
       "    </tr>\n",
       "    <tr>\n",
       "      <th>25%</th>\n",
       "      <td>3.440000e+02</td>\n",
       "      <td>3.777041e+01</td>\n",
       "      <td>-1.224114e+02</td>\n",
       "      <td>3.777106e+01</td>\n",
       "      <td>-1.224094e+02</td>\n",
       "      <td>1.978000e+03</td>\n",
       "      <td>5.436857e-01</td>\n",
       "    </tr>\n",
       "    <tr>\n",
       "      <th>50%</th>\n",
       "      <td>5.430000e+02</td>\n",
       "      <td>3.778107e+01</td>\n",
       "      <td>-1.223971e+02</td>\n",
       "      <td>3.778107e+01</td>\n",
       "      <td>-1.223959e+02</td>\n",
       "      <td>1.985000e+03</td>\n",
       "      <td>8.542568e-01</td>\n",
       "    </tr>\n",
       "    <tr>\n",
       "      <th>75%</th>\n",
       "      <td>8.410000e+02</td>\n",
       "      <td>3.779625e+01</td>\n",
       "      <td>-1.222830e+02</td>\n",
       "      <td>3.779728e+01</td>\n",
       "      <td>-1.222865e+02</td>\n",
       "      <td>1.991000e+03</td>\n",
       "      <td>1.295360e+00</td>\n",
       "    </tr>\n",
       "    <tr>\n",
       "      <th>max</th>\n",
       "      <td>8.628100e+04</td>\n",
       "      <td>4.551000e+01</td>\n",
       "      <td>-7.357000e+01</td>\n",
       "      <td>4.551000e+01</td>\n",
       "      <td>-7.357000e+01</td>\n",
       "      <td>2.000000e+03</td>\n",
       "      <td>4.058059e+01</td>\n",
       "    </tr>\n",
       "  </tbody>\n",
       "</table>\n",
       "</div>"
      ],
      "text/plain": [
       "       duration_sec  start_station_latitude  start_station_longitude  \\\n",
       "count  1.752127e+06            1.752127e+06             1.752127e+06   \n",
       "mean   7.777660e+02            3.776641e+01            -1.223482e+02   \n",
       "std    1.983513e+03            1.067309e-01             1.684439e-01   \n",
       "min    6.100000e+01            3.726331e+01            -1.224737e+02   \n",
       "25%    3.440000e+02            3.777041e+01            -1.224114e+02   \n",
       "50%    5.430000e+02            3.778107e+01            -1.223971e+02   \n",
       "75%    8.410000e+02            3.779625e+01            -1.222830e+02   \n",
       "max    8.628100e+04            4.551000e+01            -7.357000e+01   \n",
       "\n",
       "       end_station_latitude  end_station_longitude  member_birth_year  \\\n",
       "count          1.752127e+06           1.752127e+06       1.752127e+06   \n",
       "mean           3.776650e+01          -1.223476e+02       1.983129e+03   \n",
       "std            1.066003e-01           1.680216e-01       1.027881e+01   \n",
       "min            3.726331e+01          -1.224737e+02       1.909000e+03   \n",
       "25%            3.777106e+01          -1.224094e+02       1.978000e+03   \n",
       "50%            3.778107e+01          -1.223959e+02       1.985000e+03   \n",
       "75%            3.779728e+01          -1.222865e+02       1.991000e+03   \n",
       "max            4.551000e+01          -7.357000e+01       2.000000e+03   \n",
       "\n",
       "       distance_between_stations  \n",
       "count               1.752127e+06  \n",
       "mean                9.901867e-01  \n",
       "std                 6.352587e-01  \n",
       "min                 0.000000e+00  \n",
       "25%                 5.436857e-01  \n",
       "50%                 8.542568e-01  \n",
       "75%                 1.295360e+00  \n",
       "max                 4.058059e+01  "
      ]
     },
     "execution_count": 19,
     "metadata": {},
     "output_type": "execute_result"
    }
   ],
   "source": [
    "ride_df.describe()"
   ]
  },
  {
   "cell_type": "code",
   "execution_count": 20,
   "metadata": {
    "scrolled": true
   },
   "outputs": [
    {
     "data": {
      "image/png": "[encoded data removed]",
      "text/plain": [
       "<matplotlib.figure.Figure at 0x24993e1fe80>"
      ]
     },
     "metadata": {
      "needs_background": "light"
     },
     "output_type": "display_data"
    }
   ],
   "source": [
    "# Change to log scale\n",
    "bins = 10 ** np.arange(0.1, np.log10(ride_df['duration_sec'].max())+0.1, 0.1)\n",
    "plt.figure(figsize=[8, 5])\n",
    "plt.hist(data=ride_df, x='duration_sec', bins=bins)\n",
    "plt.xscale('log')\n",
    "plt.xticks([30, 100, 300, 1000, 3000, 10000, 30000],\\\n",
    "           [30, 100, 300, 1000, 3000, 10000, 30000], rotation=25)\n",
    "plt.xlabel('Duration (seconds)')\n",
    "plt.show();"
   ]
  },
  {
   "cell_type": "markdown",
   "metadata": {
    "collapsed": true
   },
   "source": [
    "Since duration, which is measured in seconds, has a distribution that is highly concentrated on the lower end yet extends to a maximum value of 8.636600e+04, plotting these findings on a log-scale helped to visualize the information. As we can see from the above graph, when applying a log scale the data appears to be unimodal with the highest point being somewhere between 300 and 1000. \n",
    "\n",
    "While most of these times appear to be within the realm one might expect, there are some rides that last nearly a full day (the max value) and others that are only a minute or so long. While at first these numbers might seem to be outliers, the Ford GoBike service does offer users all day passes for a set price that might account for the seeminly high or low times. See https://www.fordgobike.com/ for more information.\n",
    "\n",
    "Now I'll explore what types of users are enrolled in this service."
   ]
  },
  {
   "cell_type": "code",
   "execution_count": 21,
   "metadata": {},
   "outputs": [
    {
     "data": {
      "image/png": "[encoded data removed]",
      "text/plain": [
       "<matplotlib.figure.Figure at 0x24990dd4e10>"
      ]
     },
     "metadata": {
      "needs_background": "light"
     },
     "output_type": "display_data"
    }
   ],
   "source": [
    "base_color = sb.color_palette()[0]\n",
    "fig, ax = plt.subplots(nrows=2, figsize = [7,10])\n",
    "\n",
    "sb.countplot(data=ride_df, x='user_type', color=base_color, ax=ax[0])\n",
    "sb.countplot(data=ride_df, x='bike_share_for_all_trip', color=base_color, ax=ax[1]);"
   ]
  },
  {
   "cell_type": "code",
   "execution_count": 22,
   "metadata": {},
   "outputs": [
    {
     "name": "stdout",
     "output_type": "stream",
     "text": [
      "Subscribers: 1550016\n",
      "Customers: 202111\n",
      "\n",
      "Bike Share For All User: 161904\n",
      "Not A Bike Share For All User: 1590223\n"
     ]
    }
   ],
   "source": [
    "print('Subscribers:',\\\n",
    "      ride_df[ride_df.user_type == 'Subscriber']['user_type'].count())\n",
    "print('Customers:',\\\n",
    "      ride_df[ride_df.user_type == 'Customer']['user_type'].count())\n",
    "print()\n",
    "print('Bike Share For All User:',\\\n",
    "      ride_df[ride_df.bike_share_for_all_trip == 'Yes']['user_type'].count())\n",
    "print('Not A Bike Share For All User:',\\\n",
    "      ride_df[ride_df.bike_share_for_all_trip == 'No']['user_type'].count())"
   ]
  },
  {
   "cell_type": "markdown",
   "metadata": {},
   "source": [
    "Overwhelmingly the rides taking place on the GoBike service are neither from customers, individuals who do not have a GoBike subscription, or Bike Share for All members, a program designed for low-income residents. Both of these groups make up less than 10% of the total rides for their respecitive categories. The primary users of the service are subscribers and those not using the Bike Share program. This leads one to infer that main persons using the service are residents of the bay area rather than tourists or visitors."
   ]
  },
  {
   "cell_type": "markdown",
   "metadata": {},
   "source": [
    "### Discuss the distribution(s) of your variable(s) of interest. Were there any unusual points? Did you need to perform any transformations"
   ]
  },
  {
   "cell_type": "markdown",
   "metadata": {},
   "source": [
    "Age appears to lean heavily towards users born after 1980, peaking around 1989, and gender is largely male.  \n",
    "\n",
    "The duration variable varies widely from just a few minutes to nearly entire days, so that information had to be tranformed to a log scale to visualize. After doing so the data looked unimodal nearly evenly distributed with a peak in the 500 ~ 900 range. "
   ]
  },
  {
   "cell_type": "markdown",
   "metadata": {},
   "source": [
    "### Of the features you investigated, were there any unusual distributions? Did you perform any operations on the data to tidy, adjust, or change the form of the data? If so, why did you do this?"
   ]
  },
  {
   "cell_type": "markdown",
   "metadata": {},
   "source": [
    "As mentioned above, there were several ages that appeared to be outside the realm of possiblity (those prior to 1907 - the birth year of the oldest person in the United States). Rows with such birth years were removed from the data as were those with null values for age.\n",
    "\n",
    "I added columns to show the days that rides took place as it provides an additional bit of insight into rider behavior. This data will be analyzed in a later section.\n",
    "\n",
    "Additionally, there is a wide range in ride times that at first glance seem as if they might not be legitimate. However, taking into account the GoBike all-day pass option, these numbers begin to make more sense. As such, the data retains those values."
   ]
  },
  {
   "cell_type": "markdown",
   "metadata": {},
   "source": [
    "## Bivariate Exploration"
   ]
  },
  {
   "cell_type": "markdown",
   "metadata": {},
   "source": [
    "Throughout this exploration, I want to breakdown ride information by gender to identify differences in usage by these groups. "
   ]
  },
  {
   "cell_type": "code",
   "execution_count": 23,
   "metadata": {
    "scrolled": false
   },
   "outputs": [
    {
     "data": {
      "image/png": "[encoded data removed]",
      "text/plain": [
       "<matplotlib.figure.Figure at 0x24983901c50>"
      ]
     },
     "metadata": {
      "needs_background": "light"
     },
     "output_type": "display_data"
    }
   ],
   "source": [
    "plt.figure(figsize=[8, 5])\n",
    "sb.boxplot(data=ride_df, x='member_gender', y='member_birth_year')\n",
    "plt.xlabel('Gender')\n",
    "plt.ylabel('Birth Year');"
   ]
  },
  {
   "cell_type": "markdown",
   "metadata": {},
   "source": [
    "Unsurprisingly the ages of all gender groups are aligned closely by age. The majority of these ages occur around 1980 to the early 90's although there are a fair number of data points that fall outside of these boxes as can be seen by the dots extending from each of the above box plots. This visualization does a good job giving us an idea of how old most users are in terms of age, yet it doesn't show us the actual numerical distribution. To see that information, I'll need to make use of another type of plot. "
   ]
  },
  {
   "cell_type": "code",
   "execution_count": 24,
   "metadata": {},
   "outputs": [
    {
     "data": {
      "image/png": "[encoded data removed]",
      "text/plain": [
       "<matplotlib.figure.Figure at 0x249824cb198>"
      ]
     },
     "metadata": {
      "needs_background": "light"
     },
     "output_type": "display_data"
    }
   ],
   "source": [
    "bins = np.arange(1907, 2000 + 2, 1)\n",
    "grid = sb.FacetGrid(data=ride_df, col='member_gender')\n",
    "grid.map(plt.hist, 'member_birth_year', bins=bins);"
   ]
  },
  {
   "cell_type": "markdown",
   "metadata": {},
   "source": [
    "By using histograms within a facet grid we can see the numerical distribution more clearly. The years with the highest number of rides is consistent for all gender groups, but rides by male users eclipses that of females and other for every birth year.\n",
    "\n",
    "Next I'll examine the average ride duration for each gender."
   ]
  },
  {
   "cell_type": "code",
   "execution_count": 25,
   "metadata": {
    "scrolled": true
   },
   "outputs": [
    {
     "data": {
      "image/png": "[encoded data removed]",
      "text/plain": [
       "<matplotlib.figure.Figure at 0x249e769dd68>"
      ]
     },
     "metadata": {
      "needs_background": "light"
     },
     "output_type": "display_data"
    }
   ],
   "source": [
    "# Calculate average ride times by age and gender\n",
    "# Source: https://seaborn.pydata.org/generated/seaborn.barplot.html\n",
    "make_means = ride_df.groupby('member_gender').mean()\n",
    "comb_order = make_means.sort_values('duration_sec', ascending = False).index\n",
    "\n",
    "base_color = sb.color_palette()[0]\n",
    "sb.barplot(data = ride_df, x = 'duration_sec', y = 'member_gender',\n",
    "           color = base_color)\n",
    "plt.xlabel('Average Ride Duration (Seconds)')\n",
    "plt.ylabel('Member Gender');"
   ]
  },
  {
   "cell_type": "code",
   "execution_count": 26,
   "metadata": {},
   "outputs": [
    {
     "data": {
      "text/html": [
       "<div>\n",
       "<style scoped>\n",
       "    .dataframe tbody tr th:only-of-type {\n",
       "        vertical-align: middle;\n",
       "    }\n",
       "\n",
       "    .dataframe tbody tr th {\n",
       "        vertical-align: top;\n",
       "    }\n",
       "\n",
       "    .dataframe thead th {\n",
       "        text-align: right;\n",
       "    }\n",
       "</style>\n",
       "<table border=\"1\" class=\"dataframe\">\n",
       "  <thead>\n",
       "    <tr style=\"text-align: right;\">\n",
       "      <th></th>\n",
       "      <th>duration_sec</th>\n",
       "      <th>start_station_latitude</th>\n",
       "      <th>start_station_longitude</th>\n",
       "      <th>end_station_latitude</th>\n",
       "      <th>end_station_longitude</th>\n",
       "      <th>member_birth_year</th>\n",
       "      <th>distance_between_stations</th>\n",
       "    </tr>\n",
       "    <tr>\n",
       "      <th>member_gender</th>\n",
       "      <th></th>\n",
       "      <th></th>\n",
       "      <th></th>\n",
       "      <th></th>\n",
       "      <th></th>\n",
       "      <th></th>\n",
       "      <th></th>\n",
       "    </tr>\n",
       "  </thead>\n",
       "  <tbody>\n",
       "    <tr>\n",
       "      <th>Female</th>\n",
       "      <td>901.542602</td>\n",
       "      <td>37.772925</td>\n",
       "      <td>-122.346485</td>\n",
       "      <td>37.773065</td>\n",
       "      <td>-122.345807</td>\n",
       "      <td>1984.307992</td>\n",
       "      <td>1.037337</td>\n",
       "    </tr>\n",
       "    <tr>\n",
       "      <th>Male</th>\n",
       "      <td>733.821687</td>\n",
       "      <td>37.763689</td>\n",
       "      <td>-122.348709</td>\n",
       "      <td>37.763764</td>\n",
       "      <td>-122.348186</td>\n",
       "      <td>1982.753868</td>\n",
       "      <td>0.973067</td>\n",
       "    </tr>\n",
       "    <tr>\n",
       "      <th>Other</th>\n",
       "      <td>867.079142</td>\n",
       "      <td>37.790553</td>\n",
       "      <td>-122.349848</td>\n",
       "      <td>37.790825</td>\n",
       "      <td>-122.349541</td>\n",
       "      <td>1981.939856</td>\n",
       "      <td>1.042347</td>\n",
       "    </tr>\n",
       "  </tbody>\n",
       "</table>\n",
       "</div>"
      ],
      "text/plain": [
       "               duration_sec  start_station_latitude  start_station_longitude  \\\n",
       "member_gender                                                                  \n",
       "Female           901.542602               37.772925              -122.346485   \n",
       "Male             733.821687               37.763689              -122.348709   \n",
       "Other            867.079142               37.790553              -122.349848   \n",
       "\n",
       "               end_station_latitude  end_station_longitude  member_birth_year  \\\n",
       "member_gender                                                                   \n",
       "Female                    37.773065            -122.345807        1984.307992   \n",
       "Male                      37.763764            -122.348186        1982.753868   \n",
       "Other                     37.790825            -122.349541        1981.939856   \n",
       "\n",
       "               distance_between_stations  \n",
       "member_gender                             \n",
       "Female                          1.037337  \n",
       "Male                            0.973067  \n",
       "Other                           1.042347  "
      ]
     },
     "execution_count": 26,
     "metadata": {},
     "output_type": "execute_result"
    }
   ],
   "source": [
    "make_means"
   ]
  },
  {
   "cell_type": "markdown",
   "metadata": {},
   "source": [
    "While there are far more rides taking place with male riders, it appears that females on average ride near 167 seconds longer than males. Additionally, riders selecting *other* as their gender also on average ride longer than males by around 133 seconds. This could be due to there being a presumably larger pool of male riders whose different destinations might vary considerably. However this is still rather interesting to see.\n",
    "\n",
    "Next up, I'm looking at user types and Bike Share for All participants."
   ]
  },
  {
   "cell_type": "code",
   "execution_count": 27,
   "metadata": {},
   "outputs": [
    {
     "data": {
      "image/png": "[encoded data removed]",
      "text/plain": [
       "<matplotlib.figure.Figure at 0x249e009a6a0>"
      ]
     },
     "metadata": {
      "needs_background": "light"
     },
     "output_type": "display_data"
    }
   ],
   "source": [
    "# Source: https://stackoverflow.com/questions/27019153/how-to-scale-seaborns-y-axis-with-a-bar-plot\n",
    "# Source: https://stackoverflow.com/questions/41384040/subplot-for-seaborn-boxplot\n",
    "\n",
    "f, axes = plt.subplots(1, 2, figsize=(12,6))\n",
    "ut_bar = sb.countplot(x=\"member_gender\", hue=\"user_type\", data=ride_df, ax=axes[0])\n",
    "#ut_bar.set_yscale('log')\n",
    "ut_bar.set_xlabel('Gender')\n",
    "ut_bar.set_ylabel('Count')\n",
    "ut_bar.legend(title='User Type')\n",
    "#ut_bar.set_yticks([1e4, 1e5, 1e6])\n",
    "#ut_bar.set_yticklabels(['10k', '100k', '1m'])\n",
    "\n",
    "\n",
    "bsfa_bar = sb.countplot(x=\"member_gender\", hue=\"bike_share_for_all_trip\", data=ride_df, ax=axes[1])\n",
    "#bsfa_bar.set_yscale('log')\n",
    "bsfa_bar.set_xlabel('Gender')\n",
    "bsfa_bar.set_ylabel('Count')\n",
    "bsfa_bar.legend(title='Bike Share For All Trip')\n",
    "#bsfa_bar.set_yticks([1e4, 1e5, 1e6])\n",
    "#bsfa_bar.set_yticklabels(['10k', '100k', '1m'])\n",
    "\n",
    "plt.tight_layout()\n",
    "plt.show();"
   ]
  },
  {
   "cell_type": "markdown",
   "metadata": {},
   "source": [
    "From the two charts above we infer that the subscriber to customer ratio seems to be consistent accross the gender groups. No group appears to have a stronger preference toward the customer business model. This might provide further evidence to the idea presented above that most riders, regardless of gender, are likely to be residents of the Bay Area. Depending on the frequency of usage, that could be a rather advantageous decision.\n",
    "\n",
    "Similar to the user type examination, the breakdown of those who use the Bike Share for All Trip service is relatively small compared to other users."
   ]
  },
  {
   "cell_type": "code",
   "execution_count": 28,
   "metadata": {},
   "outputs": [
    {
     "data": {
      "image/png": "[encoded data removed]",
      "text/plain": [
       "<matplotlib.figure.Figure at 0x24993ea3b00>"
      ]
     },
     "metadata": {
      "needs_background": "light"
     },
     "output_type": "display_data"
    }
   ],
   "source": [
    "plt.figure(figsize=[8, 6])\n",
    "day_chart = sb.countplot(x=\"start_day\", hue=\"member_gender\", data=ride_df, \\\n",
    "             order=['Monday', 'Tuesday', 'Wednesday', 'Thursday', 'Friday', 'Saturday', 'Sunday'])\n",
    "day_chart.set_xlabel('Start Day')\n",
    "day_chart.set_ylabel('Count');"
   ]
  },
  {
   "cell_type": "code",
   "execution_count": 29,
   "metadata": {
    "scrolled": true
   },
   "outputs": [
    {
     "data": {
      "image/png": "[encoded data removed]",
      "text/plain": [
       "<matplotlib.figure.Figure at 0x249864c07f0>"
      ]
     },
     "metadata": {
      "needs_background": "light"
     },
     "output_type": "display_data"
    }
   ],
   "source": [
    "plt.figure(figsize=[8, 6])\n",
    "day_chart = sb.countplot(x=\"end_day\", hue=\"member_gender\", data=ride_df, \\\n",
    "             order=['Monday', 'Tuesday', 'Wednesday', 'Thursday', 'Friday', 'Saturday', 'Sunday'])\n",
    "day_chart.set_xlabel('End Day')\n",
    "day_chart.set_ylabel('Count');"
   ]
  },
  {
   "cell_type": "markdown",
   "metadata": {},
   "source": [
    "Above I have two charts showing rides per day for both the start and end day. Both graphs are relatively the same with some minor differences, but the information they present is rather interesting. As one can see, the days that see the most usage of this service are Monday - Friday. The weekend by comparison sees around only half of the usage we see throughout the week across the gender groups. One might infer from this information that the GoBike service could be used a considerable amount by those commuting to work as the highest traffic time occurs during the week."
   ]
  },
  {
   "cell_type": "markdown",
   "metadata": {},
   "source": [
    "### Talk about some of the relationships you observed in this part of the investigation. How did the feature(s) of interest vary with other features in the dataset?"
   ]
  },
  {
   "cell_type": "markdown",
   "metadata": {
    "collapsed": true
   },
   "source": [
    "The most interesting relationship I observed in this section was the ride duration time broken down by gender. While male rides appear to lead in most categories explored above, this was an area where they were notably behind females and riders that selected other. "
   ]
  },
  {
   "cell_type": "markdown",
   "metadata": {},
   "source": [
    "### Did you observe any interesting relationships between the other features (not the main feature(s) of interest)?"
   ]
  },
  {
   "cell_type": "markdown",
   "metadata": {
    "collapsed": true
   },
   "source": [
    "An observation I wasn't expecting was the considerably high usage of the GoBike system during the week. If the information above is to be believed, it could be possible that subscription numbers for the service in comparison to non-subscription customers is so high because most of the users are residents that use the service during the week, likely for commuting to and from work. By subscribing to the service which at this time costs fifteen dollars a month, users can save a fair bit of money rather than opting for two dollars for each trip or ten dollars for a day pass. \n",
    "\n",
    "These are all just assumptions based on the information, but I feel it's rather plausible that this is the case."
   ]
  },
  {
   "cell_type": "markdown",
   "metadata": {},
   "source": [
    "## Multivariate Exploration"
   ]
  },
  {
   "cell_type": "markdown",
   "metadata": {},
   "source": [
    "What I intend to explore in this section is the distance between start and end stations as well as ride duration for gender and age groups."
   ]
  },
  {
   "cell_type": "code",
   "execution_count": 30,
   "metadata": {},
   "outputs": [
    {
     "data": {
      "image/png": "[encoded data removed]",
      "text/plain": [
       "<matplotlib.figure.Figure at 0x249e41a1eb8>"
      ]
     },
     "metadata": {},
     "output_type": "display_data"
    }
   ],
   "source": [
    "# Source: https://seaborn.pydata.org/tutorial/axis_grids.html\n",
    "bins_x = np.arange(1920, 2000 + 1, 5)\n",
    "bins_y = np.arange(0, 13, 1)\n",
    "\n",
    "def heatgrid(x, y, **kwargs):\n",
    "    plt.hist2d(x, y, cmap='viridis_r', bins=[bins_x, bins_y], cmin=0.5)\n",
    "\n",
    "\n",
    "with sb.axes_style(\"white\"):\n",
    "    g = sb.FacetGrid(ride_df, hue=\"member_gender\", col=\"member_gender\", size=4, col_wrap=2)\n",
    "g.map(heatgrid, \"member_birth_year\", \"distance_between_stations\")\n",
    "#plt.colorbar()\n",
    "plt.ylim(0,14)\n",
    "plt.tight_layout();"
   ]
  },
  {
   "cell_type": "markdown",
   "metadata": {},
   "source": [
    "Above we can see a comparison of distance between starting station and ending station by member birth year. This information is then further divied by gender. From what we can see above, male riders have a longer age spread as well as higher numbers of riders traveling further distances than the other gender groups. Additionally we can see the age concentration, marked by darker coloration, is roughly the same through all genders. The main takeaway from this information is that male riders of all ages tend to travel further to reach and end station than females and those classified as other. However most rides for each age and gender group tend to stay within the three mile range.\n",
    "\n",
    "Next I up I am comparing ride duration by age for these gender groups."
   ]
  },
  {
   "cell_type": "code",
   "execution_count": 31,
   "metadata": {
    "scrolled": false
   },
   "outputs": [
    {
     "data": {
      "image/png": "[encoded data removed]",
      "text/plain": [
       "<matplotlib.figure.Figure at 0x249864b3198>"
      ]
     },
     "metadata": {
      "needs_background": "light"
     },
     "output_type": "display_data"
    }
   ],
   "source": [
    "# Source: https://stackoverflow.com/questions/47200033/how-to-adjust-transparency-alpha-in-seaborn-pairplot\n",
    "kws = dict(s=25, linewidth=.25, edgecolor=\"w\", color=base_color, alpha=1/5)\n",
    "g = sb.FacetGrid(ride_df, hue=\"member_gender\", col=\"member_gender\", size=4, col_wrap=2)\n",
    "g.map(plt.scatter, \"member_birth_year\", \"duration_sec\", **kws);"
   ]
  },
  {
   "cell_type": "markdown",
   "metadata": {},
   "source": [
    "Immediately we can see that as age decreases, ride duration increaces until 90's birth years where it begins to dip slightly. A majority of these rides appear to take place well under 20,000 seconds (around 5.5 hours). For members identifying as other, ride duration scarcely goes into the upper times we see with male and female. For males, one can see that heavy ride concentration occurs at ealier ages than female. However we can see one of the strongest concentrations of points extending into the 20,000 second range out of any group in the female graph for birth years in the early to mid 80s. This and other small spikes might account for what was observed earlier where female rides had higher average durations than males."
   ]
  },
  {
   "cell_type": "markdown",
   "metadata": {},
   "source": [
    "### Talk about some of the relationships you observed in this part of the investigation. Were there features that strengthened each other in terms of looking at your feature(s) of interest?"
   ]
  },
  {
   "cell_type": "markdown",
   "metadata": {
    "collapsed": true
   },
   "source": [
    "In both of the above multivariate observations the strongest feature was age. As age increased, as did the duration and distance traveled between stations for all gender groups. Towards the tail end of the graph, those numbers began to fall off, but overall age increased them."
   ]
  },
  {
   "cell_type": "markdown",
   "metadata": {},
   "source": [
    "### Were there any interesting or surprising interactions between features?"
   ]
  },
  {
   "cell_type": "markdown",
   "metadata": {
    "collapsed": true
   },
   "source": [
    "There really weren't too many surprising interactions in this section that weren't already apparent in the one prior. Male rides contained far more data points than female or other in the scatter plots above, and the oldest riders and furtherest distances too were largely male. \n",
    "\n",
    "What this section helped me to infer is that the primary user base for the Ford GoBike service are males between the ages of 18 and 38, and on average they travel around 2 to 3 miles between stations in times ranging from a few minutes to a few hours. "
   ]
  },
  {
   "cell_type": "code",
   "execution_count": null,
   "metadata": {
    "collapsed": true
   },
   "outputs": [],
   "source": []
  }
 ],
 "metadata": {
  "kernelspec": {
   "display_name": "Python 3",
   "language": "python",
   "name": "python3"
  },
  "language_info": {
   "codemirror_mode": {
    "name": "ipython",
    "version": 3
   },
   "file_extension": ".py",
   "mimetype": "text/x-python",
   "name": "python",
   "nbconvert_exporter": "python",
   "pygments_lexer": "ipython3",
   "version": "3.6.6"
  }
 },
 "nbformat": 4,
 "nbformat_minor": 2
}
